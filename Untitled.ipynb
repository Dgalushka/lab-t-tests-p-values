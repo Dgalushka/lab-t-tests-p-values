{
 "cells": [
  {
   "cell_type": "markdown",
   "id": "092bab88",
   "metadata": {},
   "source": [
    "### Lab t-tests-p-values"
   ]
  },
  {
   "cell_type": "markdown",
   "id": "597c194e",
   "metadata": {},
   "source": [
    "In a packing plant, a machine packs cartons with jars. It is supposed that a new machine will pack faster on the average than the machine currently used. To test that hypothesis, the times it takes each machine to pack ten cartons are recorded. The results, in seconds, are shown in the tables in the file files_for_lab/machine.txt. Assume that there is sufficient evidence to conduct the t test, does the data provide sufficient evidence to show if one machine is better than the other"
   ]
  },
  {
   "cell_type": "code",
   "execution_count": 14,
   "id": "a9f9ac34",
   "metadata": {},
   "outputs": [],
   "source": [
    "from scipy.stats import ttest_ind, norm\n",
    "import numpy as np"
   ]
  },
  {
   "cell_type": "code",
   "execution_count": 9,
   "id": "4190fadc",
   "metadata": {},
   "outputs": [],
   "source": [
    "# New machine\t    # Old machine\n",
    "#42.1\t        #42.7\n",
    "#41\t            #43.6\n",
    "#41.3\t        #43.8\n",
    "#41.8\t        #43.3\n",
    "#42.4\t        #42.5\n",
    "#42.8\t        #43.5\n",
    "#43.2\t        #43.1\n",
    "#42.3\t        #41.7\n",
    "#41.8\t        #44\n",
    "#42.7\t        #44.1\n"
   ]
  },
  {
   "cell_type": "code",
   "execution_count": 10,
   "id": "7e53f1bb",
   "metadata": {},
   "outputs": [],
   "source": [
    "both_machines = [42.1, 42.7, 41, 43.6, 41.3, 43.8, 41.8, 43.3, 42.4, 42.5, 42.8, 43.5, 43.2, 43.1, 42.3, 41.7, 41.8, 44, 42.7, 44.1]"
   ]
  },
  {
   "cell_type": "code",
   "execution_count": 11,
   "id": "b3a6ecfe",
   "metadata": {},
   "outputs": [
    {
     "data": {
      "text/plain": [
       "20"
      ]
     },
     "execution_count": 11,
     "metadata": {},
     "output_type": "execute_result"
    }
   ],
   "source": [
    "len(both_machines)"
   ]
  },
  {
   "cell_type": "code",
   "execution_count": 12,
   "id": "0efe910a",
   "metadata": {},
   "outputs": [],
   "source": [
    "new_machine = both_machines[0:10]"
   ]
  },
  {
   "cell_type": "code",
   "execution_count": 13,
   "id": "02ba23f3",
   "metadata": {},
   "outputs": [],
   "source": [
    "old_machine = both_machines[10:]"
   ]
  },
  {
   "cell_type": "code",
   "execution_count": 15,
   "id": "595f8858",
   "metadata": {},
   "outputs": [],
   "source": [
    "# New machine\n",
    "n_samples = 10\n",
    "n_sample_mean = np.mean(new_machine)\n",
    "n_sample_std = np.std(new_machine)\n",
    "      \n",
    "# Old machine\n",
    "o_samples = 10\n",
    "o_sample_mean = np.mean(old_machine)\n",
    "o_sample_std = np.std(old_machine)"
   ]
  },
  {
   "cell_type": "code",
   "execution_count": 24,
   "id": "8fdeb374",
   "metadata": {},
   "outputs": [
    {
     "name": "stdout",
     "output_type": "stream",
     "text": [
      "new mean:42.45, new std:0.89\n",
      "old mean:42.92, old std:0.79\n"
     ]
    }
   ],
   "source": [
    "print(f\"new mean:{n_sample_mean}, new std:{round(n_sample_std,2)}\")\n",
    "print(f\"old mean:{o_sample_mean}, old std:{round(o_sample_std,2)}\")"
   ]
  },
  {
   "cell_type": "code",
   "execution_count": 25,
   "id": "3e24d84a",
   "metadata": {},
   "outputs": [],
   "source": [
    "# since there is a bigger std in for the new machine, I would think that we would not be abble to reject H0"
   ]
  },
  {
   "cell_type": "code",
   "execution_count": 18,
   "id": "f7b9ed57",
   "metadata": {
    "scrolled": true
   },
   "outputs": [],
   "source": [
    "# create the samples\n",
    "new = norm.rvs(loc=n_sample_mean, scale=n_sample_std, size=n_samples)\n",
    "old = norm.rvs(loc=o_sample_mean, scale=o_sample_std, size=o_samples)"
   ]
  },
  {
   "cell_type": "code",
   "execution_count": 19,
   "id": "b6014f7f",
   "metadata": {},
   "outputs": [
    {
     "data": {
      "text/plain": [
       "array([44.71483359, 43.01475815, 42.30686177, 41.36191688, 42.27889179,\n",
       "       41.09342777, 42.60375127, 42.09837179, 44.21248857, 42.73330365])"
      ]
     },
     "execution_count": 19,
     "metadata": {},
     "output_type": "execute_result"
    }
   ],
   "source": [
    "new"
   ]
  },
  {
   "cell_type": "code",
   "execution_count": 20,
   "id": "f6756184",
   "metadata": {},
   "outputs": [
    {
     "data": {
      "text/plain": [
       "array([41.44603949, 42.18930241, 42.52342802, 41.96935004, 43.55899496,\n",
       "       44.0692128 , 41.78217372, 43.00358584, 42.58900869, 41.97391036])"
      ]
     },
     "execution_count": 20,
     "metadata": {},
     "output_type": "execute_result"
    }
   ],
   "source": [
    "old"
   ]
  },
  {
   "cell_type": "code",
   "execution_count": 21,
   "id": "4fcbcf7f",
   "metadata": {},
   "outputs": [
    {
     "data": {
      "text/plain": [
       "Ttest_indResult(statistic=0.29693003507649957, pvalue=0.7699191506973271)"
      ]
     },
     "execution_count": 21,
     "metadata": {},
     "output_type": "execute_result"
    }
   ],
   "source": [
    "ttest_ind(new, old)"
   ]
  },
  {
   "cell_type": "markdown",
   "id": "eb61fecc",
   "metadata": {},
   "source": [
    "As expected, p-value is too high, thus, we can not reject nul-hypothesis (H0)"
   ]
  },
  {
   "cell_type": "code",
   "execution_count": null,
   "id": "97df1708",
   "metadata": {},
   "outputs": [],
   "source": []
  }
 ],
 "metadata": {
  "kernelspec": {
   "display_name": "Python 3 (ipykernel)",
   "language": "python",
   "name": "python3"
  },
  "language_info": {
   "codemirror_mode": {
    "name": "ipython",
    "version": 3
   },
   "file_extension": ".py",
   "mimetype": "text/x-python",
   "name": "python",
   "nbconvert_exporter": "python",
   "pygments_lexer": "ipython3",
   "version": "3.10.9"
  }
 },
 "nbformat": 4,
 "nbformat_minor": 5
}
